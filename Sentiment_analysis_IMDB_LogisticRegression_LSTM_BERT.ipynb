{
 "cells": [
  {
   "cell_type": "code",
   "execution_count": 5,
   "id": "3d4561d0",
   "metadata": {},
   "outputs": [],
   "source": [
    "from sklearn.pipeline import Pipeline\n",
    "from sklearn.linear_model import LogisticRegression\n",
    "from sklearn.feature_extraction.text import TfidfVectorizer\n",
    "from sklearn.model_selection import GridSearchCV\n",
    "\n",
    "import torch\n",
    "import torch.nn as nn\n",
    "import torch.nn.functional as F\n",
    "from torch.utils.data import DataLoader, TensorDataset, Dataset\n",
    "from torchtext import data, datasets\n",
    "from torchtext.vocab import Vocab\n",
    "import torch.optim as optim\n",
    "\n",
    "import pyprind\n",
    "import pandas as pd\n",
    "import numpy as np\n",
    "import os\n",
    "import matplotlib.pyplot as plt\n",
    "from collections import Counter\n",
    "import time\n",
    "from tqdm import tqdm\n",
    "import re\n",
    "from nltk.corpus import stopwords\n",
    "import random\n",
    "\n",
    "from sklearn.feature_extraction.text import CountVectorizer\n",
    "from sklearn.feature_extraction.text import TfidfVectorizer\n",
    "from sklearn.metrics import accuracy_score\n",
    "\n",
    "device = torch.device('cuda' if torch.cuda.is_available() else 'cpu')"
   ]
  },
  {
   "cell_type": "markdown",
   "id": "12b39a43",
   "metadata": {},
   "source": [
    "Dataset:Large Movie Review Dataset\n",
    "\n",
    "Link: https://ai.stanford.edu/~amaas/data/sentiment/\n",
    "\n",
    "This is a dataset for binary sentiment classification containing a set of 25,000 highly polar movie reviews for training, and 25,000 for testing.\n",
    "\n",
    "I have already saved this dataset as a csv file"
   ]
  },
  {
   "cell_type": "code",
   "execution_count": 124,
   "id": "5921685a",
   "metadata": {},
   "outputs": [
    {
     "data": {
      "text/html": [
       "<div>\n",
       "<style scoped>\n",
       "    .dataframe tbody tr th:only-of-type {\n",
       "        vertical-align: middle;\n",
       "    }\n",
       "\n",
       "    .dataframe tbody tr th {\n",
       "        vertical-align: top;\n",
       "    }\n",
       "\n",
       "    .dataframe thead th {\n",
       "        text-align: right;\n",
       "    }\n",
       "</style>\n",
       "<table border=\"1\" class=\"dataframe\">\n",
       "  <thead>\n",
       "    <tr style=\"text-align: right;\">\n",
       "      <th></th>\n",
       "      <th>text</th>\n",
       "      <th>sentiment</th>\n",
       "    </tr>\n",
       "  </thead>\n",
       "  <tbody>\n",
       "    <tr>\n",
       "      <th>0</th>\n",
       "      <td>This movie is a perfect example of a film that...</td>\n",
       "      <td>1</td>\n",
       "    </tr>\n",
       "    <tr>\n",
       "      <th>1</th>\n",
       "      <td>Composed, elegant Carol (marvelously played by...</td>\n",
       "      <td>1</td>\n",
       "    </tr>\n",
       "    <tr>\n",
       "      <th>2</th>\n",
       "      <td>one of the funnest mario's i've ever played. t...</td>\n",
       "      <td>1</td>\n",
       "    </tr>\n",
       "    <tr>\n",
       "      <th>3</th>\n",
       "      <td>This movie is, in all likelihood, the worst fi...</td>\n",
       "      <td>0</td>\n",
       "    </tr>\n",
       "    <tr>\n",
       "      <th>4</th>\n",
       "      <td>The one sheets and newspaper campaign suggeste...</td>\n",
       "      <td>0</td>\n",
       "    </tr>\n",
       "  </tbody>\n",
       "</table>\n",
       "</div>"
      ],
      "text/plain": [
       "                                                text  sentiment\n",
       "0  This movie is a perfect example of a film that...          1\n",
       "1  Composed, elegant Carol (marvelously played by...          1\n",
       "2  one of the funnest mario's i've ever played. t...          1\n",
       "3  This movie is, in all likelihood, the worst fi...          0\n",
       "4  The one sheets and newspaper campaign suggeste...          0"
      ]
     },
     "execution_count": 124,
     "metadata": {},
     "output_type": "execute_result"
    }
   ],
   "source": [
    "df = pd.read_csv('movie_data.csv', encoding = 'utf-8')\n",
    "df.head(5)"
   ]
  },
  {
   "cell_type": "code",
   "execution_count": 9,
   "id": "3c0a55f9",
   "metadata": {},
   "outputs": [
    {
     "data": {
      "text/plain": [
       "(50000, 2)"
      ]
     },
     "execution_count": 9,
     "metadata": {},
     "output_type": "execute_result"
    }
   ],
   "source": [
    "df.shape"
   ]
  },
  {
   "cell_type": "markdown",
   "id": "5c5783fa",
   "metadata": {},
   "source": [
    "Seniment distribution"
   ]
  },
  {
   "cell_type": "code",
   "execution_count": 50,
   "id": "2e7c99b7",
   "metadata": {},
   "outputs": [
    {
     "data": {
      "image/png": "[encoded data removed]",
      "text/plain": [
       "<Figure size 640x480 with 1 Axes>"
      ]
     },
     "metadata": {},
     "output_type": "display_data"
    }
   ],
   "source": [
    "sentiment_counts = [sum(df['sentiment'] == 0), sum(df['sentiment'] == 1)]\n",
    "sentiment_labels = ['Negative Sentiment', 'Positive Sentiment']\n",
    "\n",
    "plt.bar(sentiment_labels, sentiment_counts, color=['blue', 'purple'])\n",
    "plt.title('Distribution of Sentiment Values')\n",
    "\n",
    "plt.show()"
   ]
  },
  {
   "cell_type": "markdown",
   "id": "e0415061",
   "metadata": {},
   "source": [
    "# Logistic Regression Model"
   ]
  },
  {
   "cell_type": "markdown",
   "id": "20b1c152",
   "metadata": {},
   "source": [
    "We drop character with no meaning and deal with emoticons"
   ]
  },
  {
   "cell_type": "code",
   "execution_count": 6,
   "id": "7ba3edcc",
   "metadata": {},
   "outputs": [],
   "source": [
    "def preprocessor(text):\n",
    "    text = re.sub('<[^>]*>', '', text)\n",
    "    emoticons = re.findall('(?::|;|=)(?:-)?(?:\\)|\\(|D|P)',\n",
    "                           text)\n",
    "    text = (re.sub('[\\W]+', ' ', text.lower()) +\n",
    "            ' '.join(emoticons).replace('-', ''))\n",
    "    return text"
   ]
  },
  {
   "cell_type": "code",
   "execution_count": 23,
   "id": "70c1553c",
   "metadata": {},
   "outputs": [],
   "source": [
    "df['text'] = df['text'].apply(preprocessor)"
   ]
  },
  {
   "cell_type": "markdown",
   "id": "8c8c096f",
   "metadata": {},
   "source": [
    "For tokenization we just split the data"
   ]
  },
  {
   "cell_type": "code",
   "execution_count": 25,
   "id": "35fa13a5",
   "metadata": {},
   "outputs": [],
   "source": [
    "def tokenizer(text):\n",
    "    return text.split()"
   ]
  },
  {
   "cell_type": "markdown",
   "id": "a3f2be3c",
   "metadata": {},
   "source": [
    "Train/test split"
   ]
  },
  {
   "cell_type": "code",
   "execution_count": 62,
   "id": "ac40ba0f",
   "metadata": {},
   "outputs": [],
   "source": [
    "X_train = df.loc[:25000, 'text'].values\n",
    "y_train = df.loc[:25000, 'sentiment'].values\n",
    "X_test = df.loc[25000:, 'text'].values\n",
    "y_test = df.loc[25000:, 'sentiment'].values"
   ]
  },
  {
   "cell_type": "markdown",
   "id": "c865f3e1",
   "metadata": {},
   "source": [
    "Grid seaching parametrs for LogisticRegression\n",
    "\n",
    "Using TfidfVectorizer and stop words"
   ]
  },
  {
   "cell_type": "code",
   "execution_count": 63,
   "id": "aac004cb",
   "metadata": {},
   "outputs": [],
   "source": [
    "stop = set(stopwords.words('english'))\n",
    "\n",
    "tfidf = TfidfVectorizer(strip_accents=None,\n",
    "                        lowercase=False,\n",
    "                        preprocessor=None)\n",
    "\n",
    "param_grid = [{'vect__ngram_range': [(1, 1)],\n",
    "               'vect__stop_words': [stop, None],\n",
    "               'vect__tokenizer': [tokenizer],\n",
    "               'clf__penalty': ['l1', 'l2'],\n",
    "               'clf__C': [1.0, 10.0]},\n",
    "              ]\n",
    "\n",
    "lr_tfidf = Pipeline([('vect', tfidf),\n",
    "                     ('clf', LogisticRegression(random_state=0, solver='liblinear'))])"
   ]
  },
  {
   "cell_type": "code",
   "execution_count": 64,
   "id": "a3f1c58b",
   "metadata": {},
   "outputs": [
    {
     "name": "stdout",
     "output_type": "stream",
     "text": [
      "Fitting 5 folds for each of 8 candidates, totalling 40 fits\n"
     ]
    },
    {
     "name": "stderr",
     "output_type": "stream",
     "text": [
      "C:\\Users\\Vanyusha\\anaconda3\\Lib\\site-packages\\sklearn\\feature_extraction\\text.py:525: UserWarning: The parameter 'token_pattern' will not be used since 'tokenizer' is not None'\n",
      "  warnings.warn(\n"
     ]
    },
    {
     "data": {
      "text/html": [
       "<style>#sk-container-id-2 {color: black;}#sk-container-id-2 pre{padding: 0;}#sk-container-id-2 div.sk-toggleable {background-color: white;}#sk-container-id-2 label.sk-toggleable__label {cursor: pointer;display: block;width: 100%;margin-bottom: 0;padding: 0.3em;box-sizing: border-box;text-align: center;}#sk-container-id-2 label.sk-toggleable__label-arrow:before {content: \"▸\";float: left;margin-right: 0.25em;color: #696969;}#sk-container-id-2 label.sk-toggleable__label-arrow:hover:before {color: black;}#sk-container-id-2 div.sk-estimator:hover label.sk-toggleable__label-arrow:before {color: black;}#sk-container-id-2 div.sk-toggleable__content {max-height: 0;max-width: 0;overflow: hidden;text-align: left;background-color: #f0f8ff;}#sk-container-id-2 div.sk-toggleable__content pre {margin: 0.2em;color: black;border-radius: 0.25em;background-color: #f0f8ff;}#sk-container-id-2 input.sk-toggleable__control:checked~div.sk-toggleable__content {max-height: 200px;max-width: 100%;overflow: auto;}#sk-container-id-2 input.sk-toggleable__control:checked~label.sk-toggleable__label-arrow:before {content: \"▾\";}#sk-container-id-2 div.sk-estimator input.sk-toggleable__control:checked~label.sk-toggleable__label {background-color: #d4ebff;}#sk-container-id-2 div.sk-label input.sk-toggleable__control:checked~label.sk-toggleable__label {background-color: #d4ebff;}#sk-container-id-2 input.sk-hidden--visually {border: 0;clip: rect(1px 1px 1px 1px);clip: rect(1px, 1px, 1px, 1px);height: 1px;margin: -1px;overflow: hidden;padding: 0;position: absolute;width: 1px;}#sk-container-id-2 div.sk-estimator {font-family: monospace;background-color: #f0f8ff;border: 1px dotted black;border-radius: 0.25em;box-sizing: border-box;margin-bottom: 0.5em;}#sk-container-id-2 div.sk-estimator:hover {background-color: #d4ebff;}#sk-container-id-2 div.sk-parallel-item::after {content: \"\";width: 100%;border-bottom: 1px solid gray;flex-grow: 1;}#sk-container-id-2 div.sk-label:hover label.sk-toggleable__label {background-color: #d4ebff;}#sk-container-id-2 div.sk-serial::before {content: \"\";position: absolute;border-left: 1px solid gray;box-sizing: border-box;top: 0;bottom: 0;left: 50%;z-index: 0;}#sk-container-id-2 div.sk-serial {display: flex;flex-direction: column;align-items: center;background-color: white;padding-right: 0.2em;padding-left: 0.2em;position: relative;}#sk-container-id-2 div.sk-item {position: relative;z-index: 1;}#sk-container-id-2 div.sk-parallel {display: flex;align-items: stretch;justify-content: center;background-color: white;position: relative;}#sk-container-id-2 div.sk-item::before, #sk-container-id-2 div.sk-parallel-item::before {content: \"\";position: absolute;border-left: 1px solid gray;box-sizing: border-box;top: 0;bottom: 0;left: 50%;z-index: -1;}#sk-container-id-2 div.sk-parallel-item {display: flex;flex-direction: column;z-index: 1;position: relative;background-color: white;}#sk-container-id-2 div.sk-parallel-item:first-child::after {align-self: flex-end;width: 50%;}#sk-container-id-2 div.sk-parallel-item:last-child::after {align-self: flex-start;width: 50%;}#sk-container-id-2 div.sk-parallel-item:only-child::after {width: 0;}#sk-container-id-2 div.sk-dashed-wrapped {border: 1px dashed gray;margin: 0 0.4em 0.5em 0.4em;box-sizing: border-box;padding-bottom: 0.4em;background-color: white;}#sk-container-id-2 div.sk-label label {font-family: monospace;font-weight: bold;display: inline-block;line-height: 1.2em;}#sk-container-id-2 div.sk-label-container {text-align: center;}#sk-container-id-2 div.sk-container {/* jupyter's `normalize.less` sets `[hidden] { display: none; }` but bootstrap.min.css set `[hidden] { display: none !important; }` so we also need the `!important` here to be able to override the default hidden behavior on the sphinx rendered scikit-learn.org. See: https://github.com/scikit-learn/scikit-learn/issues/21755 */display: inline-block !important;position: relative;}#sk-container-id-2 div.sk-text-repr-fallback {display: none;}</style><div id=\"sk-container-id-2\" class=\"sk-top-container\"><div class=\"sk-text-repr-fallback\"><pre>GridSearchCV(cv=5,\n",
       "             estimator=Pipeline(steps=[(&#x27;vect&#x27;,\n",
       "                                        TfidfVectorizer(lowercase=False)),\n",
       "                                       (&#x27;clf&#x27;,\n",
       "                                        LogisticRegression(random_state=0,\n",
       "                                                           solver=&#x27;liblinear&#x27;))]),\n",
       "             n_jobs=-1,\n",
       "             param_grid=[{&#x27;clf__C&#x27;: [1.0, 10.0], &#x27;clf__penalty&#x27;: [&#x27;l1&#x27;, &#x27;l2&#x27;],\n",
       "                          &#x27;vect__ngram_range&#x27;: [(1, 1)],\n",
       "                          &#x27;vect__stop_words&#x27;: [[&#x27;i&#x27;, &#x27;me&#x27;, &#x27;my&#x27;, &#x27;myself&#x27;, &#x27;we&#x27;,\n",
       "                                                &#x27;our&#x27;, &#x27;ours&#x27;, &#x27;ourselves&#x27;,\n",
       "                                                &#x27;you&#x27;, &quot;you&#x27;re&quot;, &quot;you&#x27;ve&quot;,\n",
       "                                                &quot;you&#x27;ll&quot;, &quot;you&#x27;d&quot;, &#x27;your&#x27;,\n",
       "                                                &#x27;yours&#x27;, &#x27;yourself&#x27;,\n",
       "                                                &#x27;yourselves&#x27;, &#x27;he&#x27;, &#x27;him&#x27;,\n",
       "                                                &#x27;his&#x27;, &#x27;himself&#x27;, &#x27;she&#x27;,\n",
       "                                                &quot;she&#x27;s&quot;, &#x27;her&#x27;, &#x27;hers&#x27;,\n",
       "                                                &#x27;herself&#x27;, &#x27;it&#x27;, &quot;it&#x27;s&quot;, &#x27;its&#x27;,\n",
       "                                                &#x27;itself&#x27;, ...],\n",
       "                                               None],\n",
       "                          &#x27;vect__tokenizer&#x27;: [&lt;function tokenizer at 0x000001E9B0F31A80&gt;]}],\n",
       "             scoring=&#x27;accuracy&#x27;, verbose=2)</pre><b>In a Jupyter environment, please rerun this cell to show the HTML representation or trust the notebook. <br />On GitHub, the HTML representation is unable to render, please try loading this page with nbviewer.org.</b></div><div class=\"sk-container\" hidden><div class=\"sk-item sk-dashed-wrapped\"><div class=\"sk-label-container\"><div class=\"sk-label sk-toggleable\"><input class=\"sk-toggleable__control sk-hidden--visually\" id=\"sk-estimator-id-5\" type=\"checkbox\" ><label for=\"sk-estimator-id-5\" class=\"sk-toggleable__label sk-toggleable__label-arrow\">GridSearchCV</label><div class=\"sk-toggleable__content\"><pre>GridSearchCV(cv=5,\n",
       "             estimator=Pipeline(steps=[(&#x27;vect&#x27;,\n",
       "                                        TfidfVectorizer(lowercase=False)),\n",
       "                                       (&#x27;clf&#x27;,\n",
       "                                        LogisticRegression(random_state=0,\n",
       "                                                           solver=&#x27;liblinear&#x27;))]),\n",
       "             n_jobs=-1,\n",
       "             param_grid=[{&#x27;clf__C&#x27;: [1.0, 10.0], &#x27;clf__penalty&#x27;: [&#x27;l1&#x27;, &#x27;l2&#x27;],\n",
       "                          &#x27;vect__ngram_range&#x27;: [(1, 1)],\n",
       "                          &#x27;vect__stop_words&#x27;: [[&#x27;i&#x27;, &#x27;me&#x27;, &#x27;my&#x27;, &#x27;myself&#x27;, &#x27;we&#x27;,\n",
       "                                                &#x27;our&#x27;, &#x27;ours&#x27;, &#x27;ourselves&#x27;,\n",
       "                                                &#x27;you&#x27;, &quot;you&#x27;re&quot;, &quot;you&#x27;ve&quot;,\n",
       "                                                &quot;you&#x27;ll&quot;, &quot;you&#x27;d&quot;, &#x27;your&#x27;,\n",
       "                                                &#x27;yours&#x27;, &#x27;yourself&#x27;,\n",
       "                                                &#x27;yourselves&#x27;, &#x27;he&#x27;, &#x27;him&#x27;,\n",
       "                                                &#x27;his&#x27;, &#x27;himself&#x27;, &#x27;she&#x27;,\n",
       "                                                &quot;she&#x27;s&quot;, &#x27;her&#x27;, &#x27;hers&#x27;,\n",
       "                                                &#x27;herself&#x27;, &#x27;it&#x27;, &quot;it&#x27;s&quot;, &#x27;its&#x27;,\n",
       "                                                &#x27;itself&#x27;, ...],\n",
       "                                               None],\n",
       "                          &#x27;vect__tokenizer&#x27;: [&lt;function tokenizer at 0x000001E9B0F31A80&gt;]}],\n",
       "             scoring=&#x27;accuracy&#x27;, verbose=2)</pre></div></div></div><div class=\"sk-parallel\"><div class=\"sk-parallel-item\"><div class=\"sk-item\"><div class=\"sk-label-container\"><div class=\"sk-label sk-toggleable\"><input class=\"sk-toggleable__control sk-hidden--visually\" id=\"sk-estimator-id-6\" type=\"checkbox\" ><label for=\"sk-estimator-id-6\" class=\"sk-toggleable__label sk-toggleable__label-arrow\">estimator: Pipeline</label><div class=\"sk-toggleable__content\"><pre>Pipeline(steps=[(&#x27;vect&#x27;, TfidfVectorizer(lowercase=False)),\n",
       "                (&#x27;clf&#x27;,\n",
       "                 LogisticRegression(random_state=0, solver=&#x27;liblinear&#x27;))])</pre></div></div></div><div class=\"sk-serial\"><div class=\"sk-item\"><div class=\"sk-serial\"><div class=\"sk-item\"><div class=\"sk-estimator sk-toggleable\"><input class=\"sk-toggleable__control sk-hidden--visually\" id=\"sk-estimator-id-7\" type=\"checkbox\" ><label for=\"sk-estimator-id-7\" class=\"sk-toggleable__label sk-toggleable__label-arrow\">TfidfVectorizer</label><div class=\"sk-toggleable__content\"><pre>TfidfVectorizer(lowercase=False)</pre></div></div></div><div class=\"sk-item\"><div class=\"sk-estimator sk-toggleable\"><input class=\"sk-toggleable__control sk-hidden--visually\" id=\"sk-estimator-id-8\" type=\"checkbox\" ><label for=\"sk-estimator-id-8\" class=\"sk-toggleable__label sk-toggleable__label-arrow\">LogisticRegression</label><div class=\"sk-toggleable__content\"><pre>LogisticRegression(random_state=0, solver=&#x27;liblinear&#x27;)</pre></div></div></div></div></div></div></div></div></div></div></div></div>"
      ],
      "text/plain": [
       "GridSearchCV(cv=5,\n",
       "             estimator=Pipeline(steps=[('vect',\n",
       "                                        TfidfVectorizer(lowercase=False)),\n",
       "                                       ('clf',\n",
       "                                        LogisticRegression(random_state=0,\n",
       "                                                           solver='liblinear'))]),\n",
       "             n_jobs=-1,\n",
       "             param_grid=[{'clf__C': [1.0, 10.0], 'clf__penalty': ['l1', 'l2'],\n",
       "                          'vect__ngram_range': [(1, 1)],\n",
       "                          'vect__stop_words': [['i', 'me', 'my', 'myself', 'we',\n",
       "                                                'our', 'ours', 'ourselves',\n",
       "                                                'you', \"you're\", \"you've\",\n",
       "                                                \"you'll\", \"you'd\", 'your',\n",
       "                                                'yours', 'yourself',\n",
       "                                                'yourselves', 'he', 'him',\n",
       "                                                'his', 'himself', 'she',\n",
       "                                                \"she's\", 'her', 'hers',\n",
       "                                                'herself', 'it', \"it's\", 'its',\n",
       "                                                'itself', ...],\n",
       "                                               None],\n",
       "                          'vect__tokenizer': [<function tokenizer at 0x000001E9B0F31A80>]}],\n",
       "             scoring='accuracy', verbose=2)"
      ]
     },
     "execution_count": 64,
     "metadata": {},
     "output_type": "execute_result"
    }
   ],
   "source": [
    "gs_lr_tfidf = GridSearchCV(lr_tfidf, param_grid,\n",
    "                            scoring='accuracy',\n",
    "                            cv=5,\n",
    "                            verbose=2,\n",
    "                            n_jobs=-1)\n",
    "    \n",
    "gs_lr_tfidf.fit(X_train, y_train)\n"
   ]
  },
  {
   "cell_type": "code",
   "execution_count": 67,
   "id": "2fc3d01c",
   "metadata": {},
   "outputs": [
    {
     "name": "stdout",
     "output_type": "stream",
     "text": [
      "Best parameters: {'clf__C': 10.0, 'clf__penalty': 'l2', 'vect__ngram_range': (1, 1), 'vect__stop_words': None, 'vect__tokenizer': <function tokenizer at 0x000001E9B0F31A80>} \n",
      "CV Accuracy: 0.895\n"
     ]
    }
   ],
   "source": [
    "print('Best parameters: %s ' % gs_lr_tfidf.best_params_)\n",
    "print('CV Accuracy: %.3f' % gs_lr_tfidf.best_score_)"
   ]
  },
  {
   "cell_type": "code",
   "execution_count": 66,
   "id": "3d4eabab",
   "metadata": {},
   "outputs": [
    {
     "name": "stdout",
     "output_type": "stream",
     "text": [
      "Test Accuracy: 0.898\n"
     ]
    }
   ],
   "source": [
    "clf = gs_lr_tfidf.best_estimator_\n",
    "print('Test Accuracy: %.3f' % clf.score(X_test, y_test))"
   ]
  },
  {
   "cell_type": "markdown",
   "id": "16b68477",
   "metadata": {},
   "source": [
    "# LSTM Model"
   ]
  },
  {
   "cell_type": "code",
   "execution_count": 8,
   "id": "0967a53a",
   "metadata": {},
   "outputs": [],
   "source": [
    "path = 'C:\\\\Users\\\\Vanyusha\\\\Desktop\\\\datasets\\\\movie_data.csv'\n",
    "df_LSTM = pd.read_csv(path, encoding = 'utf-8')"
   ]
  },
  {
   "cell_type": "code",
   "execution_count": 9,
   "id": "b981a728",
   "metadata": {},
   "outputs": [],
   "source": [
    "X_train = df_LSTM.loc[:24999, 'text'].values\n",
    "y_train = df_LSTM.loc[:24999, 'sentiment'].values\n",
    "X_test = df_LSTM.loc[25000:, 'text'].values\n",
    "y_test = df_LSTM.loc[25000:, 'sentiment'].values"
   ]
  },
  {
   "cell_type": "code",
   "execution_count": 10,
   "id": "d39da2b3",
   "metadata": {},
   "outputs": [
    {
     "data": {
      "text/plain": [
       "25000"
      ]
     },
     "execution_count": 10,
     "metadata": {},
     "output_type": "execute_result"
    }
   ],
   "source": [
    "len(y_test)"
   ]
  },
  {
   "cell_type": "code",
   "execution_count": 11,
   "id": "36e4c51e",
   "metadata": {},
   "outputs": [
    {
     "data": {
      "text/plain": [
       "25000"
      ]
     },
     "execution_count": 11,
     "metadata": {},
     "output_type": "execute_result"
    }
   ],
   "source": [
    "len(y_train)"
   ]
  },
  {
   "cell_type": "markdown",
   "id": "38fbab44",
   "metadata": {},
   "source": [
    "Tockenizer for LSTM"
   ]
  },
  {
   "cell_type": "code",
   "execution_count": 14,
   "id": "a6dd87aa",
   "metadata": {},
   "outputs": [],
   "source": [
    "def tockenizer_LSTM(X_train, X_test, vocab_limit):\n",
    "    word_list = []\n",
    "    onehot_dict = {}\n",
    "    train = []\n",
    "    test = []\n",
    "    \n",
    "    #English stopwords from NLTK library to filter out common words\n",
    "    stop = set(stopwords.words('english'))\n",
    "    \n",
    "    for sample in X_train:\n",
    "        for word in sample.lower().split():\n",
    "            word = preprocessor(word)\n",
    "            \n",
    "            if word not in stop and word != '':\n",
    "                word_list.append(word)\n",
    "  \n",
    "    #Count the frequency of each word in the training data\n",
    "    vocab = Counter(word_list)\n",
    "    \n",
    "    #Sort the vocabulary by word frequency in descending order and limit it to 'vocab_limit' words\n",
    "    vocab_sorted = sorted(vocab, key=vocab.get, reverse=True)[:vocab_limit]\n",
    "    \n",
    "    #Create a one-hot encoding dictionary for the selected words\n",
    "    for i, w in enumerate(vocab_sorted):\n",
    "        onehot_dict[w] = i + 1\n",
    "\n",
    "    #Tokenization of the training data using one-hot encoding\n",
    "    for sample in X_train:\n",
    "        sample_tokens = []\n",
    "        for word in sample.lower().split():\n",
    "            preprocessed_word = preprocessor(word)\n",
    "            \n",
    "            #Check if the preprocessed word exists in the one-hot encoding dictionary\n",
    "            if preprocessed_word in onehot_dict.keys():\n",
    "                sample_tokens.append(onehot_dict[preprocessed_word])\n",
    "        train.append(sample_tokens)\n",
    "    \n",
    "    # Tokenization of the test data using the same one-hot encoding dictionary\n",
    "    for sample in X_test:\n",
    "        sample_tokens = []\n",
    "        for word in sample.lower().split():\n",
    "            preprocessed_word = preprocessor(word)\n",
    "            if preprocessed_word in onehot_dict.keys():\n",
    "                sample_tokens.append(onehot_dict[preprocessed_word])\n",
    "        test.append(sample_tokens)\n",
    "\n",
    "    return train, test, onehot_dict"
   ]
  },
  {
   "cell_type": "markdown",
   "id": "50e83e22",
   "metadata": {},
   "source": [
    "Our vocabulary will consist of top 2000 words"
   ]
  },
  {
   "cell_type": "code",
   "execution_count": 15,
   "id": "70373a70",
   "metadata": {},
   "outputs": [],
   "source": [
    "X_train, X_test, vocab = tockenizer_LSTM(X_train, X_test, vocab_limit = 2000)"
   ]
  },
  {
   "cell_type": "code",
   "execution_count": 16,
   "id": "687ab4b2",
   "metadata": {},
   "outputs": [
    {
     "data": {
      "image/png": "[encoded data removed]",
      "text/plain": [
       "<Figure size 640x480 with 1 Axes>"
      ]
     },
     "metadata": {},
     "output_type": "display_data"
    },
    {
     "name": "stdout",
     "output_type": "stream",
     "text": [
      "mean     78.567120\n",
      "max     728.000000\n",
      "std      55.573276\n",
      "dtype: float64\n"
     ]
    }
   ],
   "source": [
    "text_length = [len(sample) for sample in X_train]\n",
    "\n",
    "text_length_series = pd.Series(text_length)\n",
    "text_length_series.hist()\n",
    "plt.xlabel('Sequence Length')\n",
    "plt.ylabel('Frequency')\n",
    "plt.title('Distribution of Sequence Lengths')\n",
    "plt.show()\n",
    "\n",
    "description = text_length_series.describe()[['mean', 'max', 'std']]\n",
    "print(description)"
   ]
  },
  {
   "cell_type": "code",
   "execution_count": 17,
   "id": "2556e1e8",
   "metadata": {},
   "outputs": [],
   "source": [
    "def padding(text, seq_len):\n",
    "    features = np.zeros((len(text), seq_len), dtype=int)\n",
    "    for i, review in enumerate(text):\n",
    "        if len(review) != 0:\n",
    "            features[i, - len(review):] = np.array(review)[:seq_len]\n",
    "\n",
    "    return features"
   ]
  },
  {
   "cell_type": "markdown",
   "id": "46c16db9",
   "metadata": {},
   "source": [
    "Padding with max length = 400"
   ]
  },
  {
   "cell_type": "code",
   "execution_count": 18,
   "id": "63cb5f70",
   "metadata": {},
   "outputs": [],
   "source": [
    "X_train_padded = padding(X_train,400)\n",
    "X_test_padded = padding(X_test,400)"
   ]
  },
  {
   "cell_type": "markdown",
   "id": "1d80f5be",
   "metadata": {},
   "source": [
    "Creating data loaders (batch_size = 50)"
   ]
  },
  {
   "cell_type": "code",
   "execution_count": 19,
   "id": "12bfa2c4",
   "metadata": {},
   "outputs": [],
   "source": [
    "train_data = TensorDataset(torch.from_numpy(X_train_padded), torch.from_numpy(y_train))\n",
    "valid_data = TensorDataset(torch.from_numpy(X_test_padded), torch.from_numpy(y_test))\n",
    "\n",
    "batch_size = 50\n",
    "\n",
    "train_loader = DataLoader(train_data, shuffle=True, batch_size=batch_size)\n",
    "valid_loader = DataLoader(valid_data, shuffle=True, batch_size=batch_size)"
   ]
  },
  {
   "cell_type": "markdown",
   "id": "9a7dc3d0",
   "metadata": {},
   "source": [
    "Function that calculates accuracy"
   ]
  },
  {
   "cell_type": "code",
   "execution_count": 25,
   "id": "46ee5fc4",
   "metadata": {},
   "outputs": [],
   "source": [
    "def accuracy(outputs, labels):\n",
    "    preds = (outputs > 0.5).float()\n",
    "    correct = (preds == labels).float()\n",
    "    return correct.mean().item()"
   ]
  },
  {
   "cell_type": "markdown",
   "id": "2f51f6a3",
   "metadata": {},
   "source": [
    "Parameters"
   ]
  },
  {
   "cell_type": "code",
   "execution_count": 22,
   "id": "4c31cf01",
   "metadata": {},
   "outputs": [],
   "source": [
    "learning_rate = 0.001\n",
    "num_epochs = 10\n",
    "embedding_dim = 32\n",
    "hidden_dim = 128\n",
    "vocab_size = len(vocab) + 1\n",
    "tagset_size = 1\n",
    "sequence_length = 400"
   ]
  },
  {
   "cell_type": "markdown",
   "id": "0573824c",
   "metadata": {},
   "source": [
    "Building neural network:\n",
    "\n",
    "Embedding(32)\n",
    "\n",
    "LSTM(128)\n",
    "\n",
    "Dropout(0.3)\n",
    "\n",
    "LSTM(128)\n",
    "\n",
    "Dropout(0.3)\n",
    "\n",
    "Linear(output)"
   ]
  },
  {
   "cell_type": "code",
   "execution_count": 23,
   "id": "7035ec2b",
   "metadata": {},
   "outputs": [],
   "source": [
    "class SentimentLSTM(nn.Module):\n",
    "    def __init__(self, embedding_dim, hidden_dim, vocab_size, tagset_size):\n",
    "        super(SentimentLSTM, self).__init__()\n",
    "        self.embedding1 = nn.Embedding(vocab_size, embedding_dim)\n",
    "        self.lstm1 = nn.LSTM(embedding_dim, hidden_dim, batch_first=True)\n",
    "        self.dropout = nn.Dropout(0.3)\n",
    "        self.lstm2 = nn.LSTM(hidden_dim, hidden_dim, batch_first=True)\n",
    "        self.linear1 = nn.Linear(hidden_dim, tagset_size)\n",
    "        \n",
    "    def forward(self, x):\n",
    "        embeds = self.embedding1(x)\n",
    "        lstm_out, _ = self.lstm1(embeds)\n",
    "        drop_out = self.dropout(lstm_out)\n",
    "        lstm_out2, _ = self.lstm2(drop_out)\n",
    "        drop_out2 = self.dropout(lstm_out2)\n",
    "        linear_out = self.linear1(drop_out2[:, -1, :])\n",
    "        result = torch.sigmoid(linear_out).squeeze()\n",
    "        return result\n",
    "model = SentimentLSTM(embedding_dim, hidden_dim, vocab_size, tagset_size).to(device)"
   ]
  },
  {
   "cell_type": "markdown",
   "id": "2f19bc81",
   "metadata": {},
   "source": [
    "Loss function and optimizer"
   ]
  },
  {
   "cell_type": "code",
   "execution_count": 28,
   "id": "25e72cec",
   "metadata": {},
   "outputs": [],
   "source": [
    "criterion = nn.BCELoss()\n",
    "optimizer = torch.optim.Adam(model.parameters(), lr=learning_rate)"
   ]
  },
  {
   "cell_type": "markdown",
   "id": "db96e436",
   "metadata": {},
   "source": [
    "Training for 10 epochs"
   ]
  },
  {
   "cell_type": "code",
   "execution_count": 19,
   "id": "ed10160d",
   "metadata": {
    "scrolled": false
   },
   "outputs": [
    {
     "name": "stdout",
     "output_type": "stream",
     "text": [
      "[1] loss: 0.614, Train Acc: 0.665, Val Acc: 0.745\n",
      "[2] loss: 0.458, Train Acc: 0.795, Val Acc: 0.788\n",
      "[3] loss: 0.390, Train Acc: 0.834, Val Acc: 0.836\n",
      "[4] loss: 0.347, Train Acc: 0.856, Val Acc: 0.840\n",
      "[5] loss: 0.323, Train Acc: 0.867, Val Acc: 0.849\n",
      "[6] loss: 0.293, Train Acc: 0.882, Val Acc: 0.852\n",
      "[7] loss: 0.270, Train Acc: 0.893, Val Acc: 0.853\n",
      "[8] loss: 0.251, Train Acc: 0.903, Val Acc: 0.851\n",
      "[9] loss: 0.228, Train Acc: 0.913, Val Acc: 0.857\n",
      "[10] loss: 0.200, Train Acc: 0.924, Val Acc: 0.855\n"
     ]
    }
   ],
   "source": [
    "train_accuracies = []\n",
    "val_accuracies = []\n",
    "loss_list = []\n",
    "val_losses = []\n",
    "\n",
    "model.train()\n",
    "n_total_steps = len(train_loader)\n",
    "for epoch in range(num_epochs):\n",
    "    running_loss = 0.0\n",
    "    correct_train = 0\n",
    "    \n",
    "    for i, (text, labels) in enumerate(train_loader):\n",
    "        text = text.to(device).long()\n",
    "        labels = labels.to(device).long()\n",
    "\n",
    "        # Forward pass\n",
    "        outputs = model(text)\n",
    "        loss = criterion(outputs, labels.float())\n",
    "\n",
    "        train_preds = (outputs > 0.5).float()\n",
    "        correct_train += (train_preds == labels.float()).sum().item()\n",
    "        \n",
    "        # Backward and optimize\n",
    "        optimizer.zero_grad()\n",
    "        loss.backward()\n",
    "        optimizer.step()\n",
    "        \n",
    "        running_loss += loss.item()\n",
    "        \n",
    "    train_accuracy = correct_train / (n_total_steps * train_loader.batch_size)\n",
    "    train_accuracies.append(train_accuracy)\n",
    "    \n",
    "    #Evaluating\n",
    "    \n",
    "    model.eval()\n",
    "    with torch.no_grad():\n",
    "        val_acc = 0.0\n",
    "        val_loss = 0.0\n",
    "        num_val_batches = 0\n",
    "        for val_text, val_labels in valid_loader:\n",
    "            val_text = val_text.to(device).long()\n",
    "            val_labels = val_labels.to(device).float()\n",
    "            val_outputs = model(val_text)\n",
    "            val_loss += criterion(val_outputs, val_labels)\n",
    "            val_acc += accuracy(val_outputs, val_labels)\n",
    "            num_val_batches += 1\n",
    "        val_loss /= num_val_batches\n",
    "        val_losses.append(val_loss)\n",
    "        val_acc /= num_val_batches\n",
    "        val_accuracies.append(val_acc)\n",
    "    model.train()\n",
    "\n",
    "    loss_list.append(running_loss / len(train_loader))\n",
    "    print(f'Epoch{epoch + 1} loss: {running_loss / len(train_loader):.3f}, Train Acc: {train_accuracy:.3f}, Val Acc: {val_acc:.3f}')\n"
   ]
  },
  {
   "cell_type": "code",
   "execution_count": 20,
   "id": "58839be6",
   "metadata": {},
   "outputs": [
    {
     "data": {
      "image/png": "[encoded data removed]",
      "text/plain": [
       "<Figure size 1200x400 with 2 Axes>"
      ]
     },
     "metadata": {},
     "output_type": "display_data"
    }
   ],
   "source": [
    "val_losses_cpu = [loss.cpu().item() for loss in val_losses]\n",
    "\n",
    "plt.figure(figsize=(12, 4))\n",
    "plt.subplot(1, 2, 1)\n",
    "plt.plot(train_accuracies, label='Training Accuracy')\n",
    "plt.plot(val_accuracies, label='Validation Accuracy')\n",
    "plt.xlabel('Epoch')\n",
    "plt.ylabel('Accuracy')\n",
    "plt.title('Training and Validation Accuracies over Epochs')\n",
    "plt.legend()\n",
    "\n",
    "# Plot Training and Validation Losses\n",
    "plt.subplot(1, 2, 2)\n",
    "plt.plot(loss_list, label='Training Loss', color='r')\n",
    "plt.plot(val_losses_cpu, label='Validation Loss', color='b')\n",
    "plt.xlabel('Epoch')\n",
    "plt.ylabel('Loss')\n",
    "plt.title('Training and Validation Losses over Epochs')\n",
    "plt.legend()\n",
    "\n",
    "plt.tight_layout()\n",
    "plt.show()"
   ]
  },
  {
   "cell_type": "code",
   "execution_count": 24,
   "id": "f9ea5647",
   "metadata": {},
   "outputs": [
    {
     "data": {
      "image/png": "[encoded data removed]",
      "text/plain": [
       "<Figure size 800x400 with 1 Axes>"
      ]
     },
     "metadata": {},
     "output_type": "display_data"
    }
   ],
   "source": [
    "accuracy_diff = [train_acc - val_acc for train_acc, val_acc in zip(train_accuracies, val_accuracies)]\n",
    "\n",
    "plt.figure(figsize=(8, 4))\n",
    "plt.plot(accuracy_diff)\n",
    "plt.xlabel('Epoch')\n",
    "plt.ylabel('Accuracy Difference')\n",
    "plt.title('Training Accuracy - Validation Accuracy')\n",
    "\n",
    "plt.show()"
   ]
  },
  {
   "cell_type": "markdown",
   "id": "8842fe54",
   "metadata": {},
   "source": [
    "Best validation accuracy is about 0.85"
   ]
  },
  {
   "cell_type": "markdown",
   "id": "9f58e1f6",
   "metadata": {},
   "source": [
    "# Pre-trained BERT Model"
   ]
  },
  {
   "cell_type": "markdown",
   "id": "6dbfd631",
   "metadata": {},
   "source": [
    "First, loading BertForSequenceClassification and tokenizer for BERT"
   ]
  },
  {
   "cell_type": "code",
   "execution_count": 52,
   "id": "83032fd9",
   "metadata": {},
   "outputs": [
    {
     "name": "stderr",
     "output_type": "stream",
     "text": [
      "Some weights of BertForSequenceClassification were not initialized from the model checkpoint at bert-base-uncased and are newly initialized: ['classifier.weight', 'classifier.bias']\n",
      "You should probably TRAIN this model on a down-stream task to be able to use it for predictions and inference.\n"
     ]
    }
   ],
   "source": [
    "from transformers import BertTokenizer, BertForSequenceClassification\n",
    "from sklearn.metrics import classification_report\n",
    "from transformers import InputExample, InputFeatures\n",
    "\n",
    "model_BERT = BertForSequenceClassification.from_pretrained(\"bert-base-uncased\", num_labels=2)\n",
    "model_BERT.to(device)\n",
    "tokenizer_BERT = BertTokenizer.from_pretrained(\"bert-base-uncased\")"
   ]
  },
  {
   "cell_type": "markdown",
   "id": "a6fca64c",
   "metadata": {},
   "source": [
    "Using only first 10 thousand reviews"
   ]
  },
  {
   "cell_type": "code",
   "execution_count": 53,
   "id": "cbfed5f1",
   "metadata": {},
   "outputs": [],
   "source": [
    "df_BERT = pd.read_csv('movie_data.csv', encoding = 'utf-8')[:10000]"
   ]
  },
  {
   "cell_type": "markdown",
   "id": "fa9ce313",
   "metadata": {},
   "source": [
    "Tokenizing"
   ]
  },
  {
   "cell_type": "code",
   "execution_count": 54,
   "id": "2d2a6fc1",
   "metadata": {},
   "outputs": [
    {
     "name": "stderr",
     "output_type": "stream",
     "text": [
      "Token indices sequence length is longer than the specified maximum sequence length for this model (696 > 512). Running this sequence through the model will result in indexing errors\n"
     ]
    }
   ],
   "source": [
    "tokenized_texts = [tokenizer_BERT.encode(text, add_special_tokens=True) for text in df_BERT.iloc[:, 0].values]"
   ]
  },
  {
   "cell_type": "markdown",
   "id": "4208e8c8",
   "metadata": {},
   "source": [
    "Taking only 128 first words"
   ]
  },
  {
   "cell_type": "code",
   "execution_count": 55,
   "id": "153874a0",
   "metadata": {},
   "outputs": [],
   "source": [
    "max_length = 128\n",
    "\n",
    "for i in range(len(tokenized_texts)):\n",
    "    if len(tokenized_texts[i]) > max_length:\n",
    "        tokenized_texts[i] = tokenized_texts[i][:max_length]"
   ]
  },
  {
   "cell_type": "code",
   "execution_count": 57,
   "id": "c147a734",
   "metadata": {},
   "outputs": [
    {
     "data": {
      "image/png": "[encoded data removed]",
      "text/plain": [
       "<Figure size 640x480 with 1 Axes>"
      ]
     },
     "metadata": {},
     "output_type": "display_data"
    }
   ],
   "source": [
    "list_lengths = [len(lst) for lst in tokenized_texts]\n",
    "\n",
    "plt.hist(list_lengths, bins=20, edgecolor='k')\n",
    "plt.xlabel('List Length')\n",
    "plt.ylabel('Frequency')\n",
    "plt.title('Distribution of List Lengths in tokenized_texts')\n",
    "plt.show()"
   ]
  },
  {
   "cell_type": "markdown",
   "id": "d5549c1c",
   "metadata": {},
   "source": [
    "Padding"
   ]
  },
  {
   "cell_type": "code",
   "execution_count": 65,
   "id": "7fbd0139",
   "metadata": {},
   "outputs": [],
   "source": [
    "padded_texts = padding(tokenized_texts, 128)"
   ]
  },
  {
   "cell_type": "code",
   "execution_count": 66,
   "id": "e23807e3",
   "metadata": {},
   "outputs": [],
   "source": [
    "input_ids = torch.tensor(padded_texts)\n",
    "labels = torch.tensor(df_BERT.iloc[:, 1].values)"
   ]
  },
  {
   "cell_type": "markdown",
   "id": "8723a070",
   "metadata": {},
   "source": [
    "Creating dataset and loaders"
   ]
  },
  {
   "cell_type": "code",
   "execution_count": 67,
   "id": "ab5be4e5",
   "metadata": {},
   "outputs": [
    {
     "name": "stderr",
     "output_type": "stream",
     "text": [
      "Training:   0%|          | 0/63 [00:00<?, ?it/s]\n",
      "Testing:   0%|          | 0/250 [00:00<?, ?it/s]\u001b[A"
     ]
    }
   ],
   "source": [
    "dataset = TensorDataset(input_ids, labels)\n",
    "\n",
    "train_size = int(0.2 * len(dataset))\n",
    "test_size = len(dataset) - train_size\n",
    "\n",
    "train_dataset, test_dataset = torch.utils.data.random_split(dataset, [train_size, test_size])\n",
    "\n",
    "train_dataloader = DataLoader(train_dataset, batch_size=32, shuffle=True)\n",
    "train_dataloader = tqdm(train_dataloader, total=len(train_dataloader), desc=\"Training\")\n",
    "\n",
    "test_dataloader = DataLoader(test_dataset, batch_size=32, shuffle=False)\n",
    "test_dataloader = tqdm(test_dataloader, total=len(test_dataloader), desc=\"Testing\")"
   ]
  },
  {
   "cell_type": "markdown",
   "id": "9ffd52fc",
   "metadata": {},
   "source": [
    "Training"
   ]
  },
  {
   "cell_type": "code",
   "execution_count": 68,
   "id": "d174158b",
   "metadata": {},
   "outputs": [
    {
     "name": "stderr",
     "output_type": "stream",
     "text": [
      "Training: 100%|██████████| 63/63 [19:13<00:00, 18.31s/it, loss=0.593]\n"
     ]
    }
   ],
   "source": [
    "optimizer = torch.optim.AdamW(model_BERT.parameters(), lr=2e-5)\n",
    "\n",
    "for epoch in range(3):\n",
    "    model_BERT.train()\n",
    "    for batch in train_dataloader:\n",
    "        optimizer.zero_grad()\n",
    "        input_ids, labels = batch\n",
    "        input_ids, labels = input_ids.to(device), labels.to(device)\n",
    "        outputs = model_BERT(input_ids, labels=labels)\n",
    "        loss = outputs.loss\n",
    "        loss.backward()\n",
    "        optimizer.step()\n",
    "        train_dataloader.set_postfix({\"loss\": loss.item()})"
   ]
  },
  {
   "cell_type": "markdown",
   "id": "2860e7b9",
   "metadata": {},
   "source": [
    "Evaluating results"
   ]
  },
  {
   "cell_type": "code",
   "execution_count": 69,
   "id": "e8241686",
   "metadata": {},
   "outputs": [
    {
     "name": "stderr",
     "output_type": "stream",
     "text": [
      "\n",
      "Testing:   0%|          | 1/250 [5:23:30<1342:31:35, 19410.02s/it]\u001b[A\n",
      "Testing:   1%|          | 2/250 [5:23:37<550:54:00, 7996.94s/it]  \u001b[A\n",
      "Testing:   1%|          | 3/250 [5:23:45<298:22:06, 4348.69s/it]\u001b[A\n",
      "Testing:   2%|▏         | 4/250 [5:23:53<180:04:18, 2635.20s/it]\u001b[A\n",
      "Testing:   2%|▏         | 5/250 [5:24:03<114:54:50, 1688.53s/it]\u001b[A\n",
      "Testing:   2%|▏         | 6/250 [5:24:12<75:43:51, 1117.34s/it] \u001b[A\n",
      "Testing:   3%|▎         | 7/250 [5:24:19<50:55:18, 754.40s/it] \u001b[A\n",
      "Testing:   3%|▎         | 8/250 [5:24:27<34:45:00, 516.94s/it]\u001b[A\n",
      "Testing:   4%|▎         | 9/250 [5:24:34<23:56:22, 357.61s/it]\u001b[A\n",
      "Testing:   4%|▍         | 10/250 [5:24:43<16:39:52, 249.97s/it]\u001b[A\n",
      "Testing:   4%|▍         | 11/250 [5:24:51<11:40:00, 175.74s/it]\u001b[A\n",
      "Testing:   5%|▍         | 12/250 [5:24:59<8:14:56, 124.78s/it] \u001b[A\n",
      "Testing:   5%|▌         | 13/250 [5:25:07<5:53:35, 89.52s/it] \u001b[A\n",
      "Testing:   6%|▌         | 14/250 [5:25:17<4:16:36, 65.24s/it]\u001b[A\n",
      "Testing:   6%|▌         | 15/250 [5:25:24<3:06:53, 47.72s/it]\u001b[A\n",
      "Testing:   6%|▋         | 16/250 [5:25:32<2:19:24, 35.74s/it]\u001b[A\n",
      "Testing:   7%|▋         | 17/250 [5:25:38<1:44:43, 26.97s/it]\u001b[A\n",
      "Testing:   7%|▋         | 18/250 [5:25:47<1:22:40, 21.38s/it]\u001b[A\n",
      "Testing:   8%|▊         | 19/250 [5:25:53<1:05:03, 16.90s/it]\u001b[A\n",
      "Testing:   8%|▊         | 20/250 [5:26:01<54:19, 14.17s/it]  \u001b[A\n",
      "Testing:   8%|▊         | 21/250 [5:26:07<45:21, 11.89s/it]\u001b[A\n",
      "Testing:   9%|▉         | 22/250 [5:26:15<40:29, 10.66s/it]\u001b[A\n",
      "Testing:   9%|▉         | 23/250 [5:26:21<35:18,  9.33s/it]\u001b[A\n",
      "Testing:  10%|▉         | 24/250 [5:26:29<33:38,  8.93s/it]\u001b[A\n",
      "Testing:  10%|█         | 25/250 [5:26:36<30:59,  8.27s/it]\u001b[A\n",
      "Testing:  10%|█         | 26/250 [5:26:44<30:35,  8.20s/it]\u001b[A\n",
      "Testing:  11%|█         | 27/250 [5:26:51<29:13,  7.86s/it]\u001b[A\n",
      "Testing:  11%|█         | 28/250 [5:27:00<29:34,  7.99s/it]\u001b[A\n",
      "Testing:  12%|█▏        | 29/250 [5:27:07<28:17,  7.68s/it]\u001b[A\n",
      "Testing:  12%|█▏        | 30/250 [5:27:15<28:40,  7.82s/it]\u001b[A\n",
      "Testing:  12%|█▏        | 31/250 [5:27:22<27:28,  7.53s/it]\u001b[A\n",
      "Testing:  13%|█▎        | 32/250 [5:27:30<28:10,  7.75s/it]\u001b[A\n",
      "Testing:  13%|█▎        | 33/250 [5:27:36<26:34,  7.35s/it]\u001b[A\n",
      "Testing:  14%|█▎        | 34/250 [5:27:44<27:26,  7.62s/it]\u001b[A\n",
      "Testing:  14%|█▍        | 35/250 [5:27:51<26:12,  7.31s/it]\u001b[A\n",
      "Testing:  14%|█▍        | 36/250 [5:28:00<28:08,  7.89s/it]\u001b[A\n",
      "Testing:  15%|█▍        | 37/250 [5:28:08<27:21,  7.71s/it]\u001b[A\n",
      "Testing:  15%|█▌        | 38/250 [5:28:16<28:19,  8.02s/it]\u001b[A\n",
      "Testing:  16%|█▌        | 39/250 [5:28:26<29:39,  8.43s/it]\u001b[A\n",
      "Testing:  16%|█▌        | 40/250 [5:28:34<29:00,  8.29s/it]\u001b[A\n",
      "Testing:  16%|█▋        | 41/250 [5:28:41<27:25,  7.87s/it]\u001b[A\n",
      "Testing:  17%|█▋        | 42/250 [5:28:49<27:40,  7.98s/it]\u001b[A\n",
      "Testing:  17%|█▋        | 43/250 [5:28:56<26:47,  7.77s/it]\u001b[A\n",
      "Testing:  18%|█▊        | 44/250 [5:29:04<27:05,  7.89s/it]\u001b[A\n",
      "Testing:  18%|█▊        | 45/250 [5:29:13<27:36,  8.08s/it]\u001b[A\n",
      "Testing:  18%|█▊        | 46/250 [5:29:22<28:49,  8.48s/it]\u001b[A\n",
      "Testing:  19%|█▉        | 47/250 [5:29:30<28:11,  8.33s/it]\u001b[A\n",
      "Testing:  19%|█▉        | 48/250 [5:29:40<29:54,  8.88s/it]\u001b[A\n",
      "Testing:  20%|█▉        | 49/250 [5:29:48<28:04,  8.38s/it]\u001b[A\n",
      "Testing:  20%|██        | 50/250 [5:29:56<28:14,  8.47s/it]\u001b[A\n",
      "Testing:  20%|██        | 51/250 [5:30:03<26:33,  8.01s/it]\u001b[A\n",
      "Testing:  21%|██        | 52/250 [5:30:12<27:03,  8.20s/it]\u001b[A\n",
      "Testing:  21%|██        | 53/250 [5:30:19<25:26,  7.75s/it]\u001b[A\n",
      "Testing:  22%|██▏       | 54/250 [5:30:27<26:16,  8.04s/it]\u001b[A\n",
      "Testing:  22%|██▏       | 55/250 [5:30:34<24:46,  7.62s/it]\u001b[A\n",
      "Testing:  22%|██▏       | 56/250 [5:30:42<25:20,  7.84s/it]\u001b[A\n",
      "Testing:  23%|██▎       | 57/250 [5:30:49<24:33,  7.63s/it]\u001b[A\n",
      "Testing:  23%|██▎       | 58/250 [5:30:58<25:11,  7.87s/it]\u001b[A\n",
      "Testing:  24%|██▎       | 59/250 [5:31:07<26:17,  8.26s/it]\u001b[A\n",
      "Testing:  24%|██▍       | 60/250 [5:31:15<26:12,  8.28s/it]\u001b[A\n",
      "Testing:  24%|██▍       | 61/250 [5:31:22<25:00,  7.94s/it]\u001b[A\n",
      "Testing:  25%|██▍       | 62/250 [5:31:31<25:00,  7.98s/it]\u001b[A\n",
      "Testing:  25%|██▌       | 63/250 [5:31:39<25:40,  8.24s/it]\u001b[A\n",
      "Testing:  26%|██▌       | 64/250 [5:31:49<26:58,  8.70s/it]\u001b[A\n",
      "Testing:  26%|██▌       | 65/250 [5:31:59<27:37,  8.96s/it]\u001b[A\n",
      "Testing:  26%|██▋       | 66/250 [5:32:07<26:58,  8.80s/it]\u001b[A\n",
      "Testing:  27%|██▋       | 67/250 [5:32:16<27:04,  8.88s/it]\u001b[A\n",
      "Testing:  27%|██▋       | 68/250 [5:32:25<26:26,  8.72s/it]\u001b[A\n",
      "Testing:  28%|██▊       | 69/250 [5:32:33<25:59,  8.62s/it]\u001b[A\n",
      "Testing:  28%|██▊       | 70/250 [5:32:42<26:14,  8.75s/it]\u001b[A\n",
      "Testing:  28%|██▊       | 71/250 [5:32:51<26:32,  8.90s/it]\u001b[A\n",
      "Testing:  29%|██▉       | 72/250 [5:33:00<26:00,  8.76s/it]\u001b[A\n",
      "Testing:  29%|██▉       | 73/250 [5:33:08<25:51,  8.76s/it]\u001b[A\n",
      "Testing:  30%|██▉       | 74/250 [5:33:18<26:20,  8.98s/it]\u001b[A\n",
      "Testing:  30%|███       | 75/250 [5:33:27<26:13,  8.99s/it]\u001b[A\n",
      "Testing:  30%|███       | 76/250 [5:33:35<25:40,  8.85s/it]\u001b[A\n",
      "Testing:  31%|███       | 77/250 [5:33:45<26:12,  9.09s/it]\u001b[A\n",
      "Testing:  31%|███       | 78/250 [5:33:54<25:58,  9.06s/it]\u001b[A\n",
      "Testing:  32%|███▏      | 79/250 [5:34:05<27:13,  9.56s/it]\u001b[A\n",
      "Testing:  32%|███▏      | 80/250 [5:34:14<26:36,  9.39s/it]\u001b[A\n",
      "Testing:  32%|███▏      | 81/250 [5:34:22<25:03,  8.89s/it]\u001b[A\n",
      "Testing:  33%|███▎      | 82/250 [5:34:30<24:14,  8.66s/it]\u001b[A\n",
      "Testing:  33%|███▎      | 83/250 [5:34:37<23:17,  8.37s/it]\u001b[A\n",
      "Testing:  34%|███▎      | 84/250 [5:34:46<23:00,  8.31s/it]\u001b[A\n",
      "Testing:  34%|███▍      | 85/250 [5:34:53<22:27,  8.17s/it]\u001b[A\n",
      "Testing:  34%|███▍      | 86/250 [5:35:02<22:19,  8.17s/it]\u001b[A\n",
      "Testing:  35%|███▍      | 87/250 [5:35:12<24:04,  8.86s/it]\u001b[A\n",
      "Testing:  35%|███▌      | 88/250 [5:35:23<25:14,  9.35s/it]\u001b[A\n",
      "Testing:  36%|███▌      | 89/250 [5:35:30<23:40,  8.82s/it]\u001b[A\n",
      "Testing:  36%|███▌      | 90/250 [5:35:40<24:31,  9.20s/it]\u001b[A\n",
      "Testing:  36%|███▋      | 91/250 [5:35:49<23:54,  9.02s/it]\u001b[A\n",
      "Testing:  37%|███▋      | 92/250 [5:35:57<23:16,  8.84s/it]\u001b[A\n",
      "Testing:  37%|███▋      | 93/250 [5:36:05<22:35,  8.63s/it]\u001b[A\n",
      "Testing:  38%|███▊      | 94/250 [5:36:14<22:17,  8.57s/it]\u001b[A\n",
      "Testing:  38%|███▊      | 95/250 [5:36:22<21:57,  8.50s/it]\u001b[A\n",
      "Testing:  38%|███▊      | 96/250 [5:36:31<22:05,  8.61s/it]\u001b[A\n",
      "Testing:  39%|███▉      | 97/250 [5:36:39<21:23,  8.39s/it]\u001b[A\n",
      "Testing:  39%|███▉      | 98/250 [5:36:48<21:32,  8.50s/it]\u001b[A\n",
      "Testing:  40%|███▉      | 99/250 [5:36:56<21:24,  8.51s/it]\u001b[A\n",
      "Testing:  40%|████      | 100/250 [5:37:05<21:53,  8.75s/it]\u001b[A\n",
      "Testing:  40%|████      | 101/250 [5:37:14<21:42,  8.74s/it]\u001b[A\n",
      "Testing:  41%|████      | 102/250 [5:37:23<21:32,  8.74s/it]\u001b[A\n",
      "Testing:  41%|████      | 103/250 [5:37:32<21:36,  8.82s/it]\u001b[A\n",
      "Testing:  42%|████▏     | 104/250 [5:37:40<20:59,  8.63s/it]\u001b[A\n",
      "Testing:  42%|████▏     | 105/250 [5:37:49<20:43,  8.58s/it]\u001b[A\n",
      "Testing:  42%|████▏     | 106/250 [5:37:58<21:11,  8.83s/it]\u001b[A\n",
      "Testing:  43%|████▎     | 107/250 [5:38:06<20:18,  8.52s/it]\u001b[A\n",
      "Testing:  43%|████▎     | 108/250 [5:38:14<19:52,  8.40s/it]\u001b[A\n",
      "Testing:  44%|████▎     | 109/250 [5:38:22<19:45,  8.41s/it]\u001b[A\n",
      "Testing:  44%|████▍     | 110/250 [5:38:31<19:38,  8.42s/it]\u001b[A\n",
      "Testing:  44%|████▍     | 111/250 [5:38:39<19:30,  8.42s/it]\u001b[A\n",
      "Testing:  45%|████▍     | 112/250 [5:38:47<19:13,  8.36s/it]\u001b[A\n",
      "Testing:  45%|████▌     | 113/250 [5:38:57<19:38,  8.60s/it]\u001b[A\n",
      "Testing:  46%|████▌     | 114/250 [5:39:05<19:07,  8.44s/it]\u001b[A\n",
      "Testing:  46%|████▌     | 115/250 [5:39:14<19:17,  8.57s/it]\u001b[A\n",
      "Testing:  46%|████▋     | 116/250 [5:39:22<18:48,  8.42s/it]\u001b[A\n",
      "Testing:  47%|████▋     | 117/250 [5:39:30<18:42,  8.44s/it]\u001b[A\n",
      "Testing:  47%|████▋     | 118/250 [5:39:38<18:24,  8.37s/it]\u001b[A\n",
      "Testing:  48%|████▊     | 119/250 [5:39:46<18:10,  8.32s/it]\u001b[A\n",
      "Testing:  48%|████▊     | 120/250 [5:39:55<17:56,  8.28s/it]\u001b[A\n",
      "Testing:  48%|████▊     | 121/250 [5:40:03<17:41,  8.23s/it]\u001b[A\n",
      "Testing:  49%|████▉     | 122/250 [5:40:11<17:30,  8.21s/it]\u001b[A\n",
      "Testing:  49%|████▉     | 123/250 [5:40:19<17:20,  8.19s/it]\u001b[A\n",
      "Testing:  50%|████▉     | 124/250 [5:40:27<17:13,  8.21s/it]\u001b[A\n",
      "Testing:  50%|█████     | 125/250 [5:40:36<17:07,  8.22s/it]\u001b[A\n",
      "Testing:  50%|█████     | 126/250 [5:40:44<16:58,  8.21s/it]\u001b[A\n",
      "Testing:  51%|█████     | 127/250 [5:40:52<16:51,  8.22s/it]\u001b[A\n",
      "Testing:  51%|█████     | 128/250 [5:41:00<16:38,  8.19s/it]\u001b[A\n",
      "Testing:  52%|█████▏    | 129/250 [5:41:08<16:30,  8.19s/it]\u001b[A\n",
      "Testing:  52%|█████▏    | 130/250 [5:41:16<16:18,  8.15s/it]\u001b[A\n",
      "Testing:  52%|█████▏    | 131/250 [5:41:25<16:18,  8.22s/it]\u001b[A\n",
      "Testing:  53%|█████▎    | 132/250 [5:41:33<15:59,  8.13s/it]\u001b[A\n",
      "Testing:  53%|█████▎    | 133/250 [5:41:41<15:55,  8.17s/it]\u001b[A\n",
      "Testing:  54%|█████▎    | 134/250 [5:41:49<15:49,  8.19s/it]\u001b[A\n",
      "Testing:  54%|█████▍    | 135/250 [5:41:57<15:42,  8.19s/it]\u001b[A\n",
      "Testing:  54%|█████▍    | 136/250 [5:42:06<15:38,  8.24s/it]\u001b[A\n",
      "Testing:  55%|█████▍    | 137/250 [5:42:14<15:25,  8.19s/it]\u001b[A\n",
      "Testing:  55%|█████▌    | 138/250 [5:42:22<15:19,  8.21s/it]\u001b[A\n",
      "Testing:  56%|█████▌    | 139/250 [5:42:30<15:11,  8.21s/it]\u001b[A\n",
      "Testing:  56%|█████▌    | 140/250 [5:42:38<15:03,  8.21s/it]\u001b[A\n",
      "Testing:  56%|█████▋    | 141/250 [5:42:47<14:58,  8.24s/it]\u001b[A\n",
      "Testing:  57%|█████▋    | 142/250 [5:42:55<14:46,  8.21s/it]\u001b[A\n",
      "Testing:  57%|█████▋    | 143/250 [5:43:03<14:38,  8.21s/it]\u001b[A\n",
      "Testing:  58%|█████▊    | 144/250 [5:43:11<14:34,  8.25s/it]\u001b[A\n",
      "Testing:  58%|█████▊    | 145/250 [5:43:20<14:25,  8.25s/it]\u001b[A\n",
      "Testing:  58%|█████▊    | 146/250 [5:43:28<14:32,  8.39s/it]\u001b[A\n",
      "Testing:  59%|█████▉    | 147/250 [5:43:36<14:03,  8.19s/it]\u001b[A\n",
      "Testing:  59%|█████▉    | 148/250 [5:43:44<13:42,  8.06s/it]\u001b[A\n",
      "Testing:  60%|█████▉    | 149/250 [5:43:52<13:25,  7.97s/it]\u001b[A\n",
      "Testing:  60%|██████    | 150/250 [5:44:00<13:31,  8.12s/it]\u001b[A\n",
      "Testing:  60%|██████    | 151/250 [5:44:08<13:24,  8.12s/it]\u001b[A\n",
      "Testing:  61%|██████    | 152/250 [5:44:16<13:08,  8.05s/it]\u001b[A\n",
      "Testing:  61%|██████    | 153/250 [5:44:25<13:13,  8.18s/it]\u001b[A\n",
      "Testing:  62%|██████▏   | 154/250 [5:44:32<12:55,  8.08s/it]\u001b[A\n",
      "Testing:  62%|██████▏   | 155/250 [5:44:41<12:55,  8.16s/it]\u001b[A\n",
      "Testing:  62%|██████▏   | 156/250 [5:44:49<12:48,  8.18s/it]\u001b[A\n",
      "Testing:  63%|██████▎   | 157/250 [5:44:57<12:39,  8.16s/it]\u001b[A\n",
      "Testing:  63%|██████▎   | 158/250 [5:45:05<12:32,  8.18s/it]\u001b[A\n",
      "Testing:  64%|██████▎   | 159/250 [5:45:14<12:22,  8.16s/it]\u001b[A\n",
      "Testing:  64%|██████▍   | 160/250 [5:45:22<12:17,  8.20s/it]\u001b[A\n",
      "Testing:  64%|██████▍   | 161/250 [5:45:30<12:06,  8.16s/it]\u001b[A\n",
      "Testing:  65%|██████▍   | 162/250 [5:45:38<12:01,  8.20s/it]\u001b[A\n",
      "Testing:  65%|██████▌   | 163/250 [5:45:46<11:55,  8.22s/it]\u001b[A\n",
      "Testing:  66%|██████▌   | 164/250 [5:45:55<11:45,  8.20s/it]\u001b[A\n",
      "Testing:  66%|██████▌   | 165/250 [5:46:03<11:37,  8.21s/it]\u001b[A\n",
      "Testing:  66%|██████▋   | 166/250 [5:46:11<11:32,  8.24s/it]\u001b[A\n",
      "Testing:  67%|██████▋   | 167/250 [5:46:20<11:30,  8.32s/it]\u001b[A\n",
      "Testing:  67%|██████▋   | 168/250 [5:46:28<11:20,  8.29s/it]\u001b[A\n",
      "Testing:  68%|██████▊   | 169/250 [5:46:36<11:07,  8.24s/it]\u001b[A\n",
      "Testing:  68%|██████▊   | 170/250 [5:46:44<10:54,  8.19s/it]\u001b[A\n",
      "Testing:  68%|██████▊   | 171/250 [5:46:53<10:54,  8.29s/it]\u001b[A\n",
      "Testing:  69%|██████▉   | 172/250 [5:47:01<10:50,  8.34s/it]\u001b[A\n",
      "Testing:  69%|██████▉   | 173/250 [5:47:10<10:47,  8.41s/it]\u001b[A\n",
      "Testing:  70%|██████▉   | 174/250 [5:47:18<10:31,  8.31s/it]\u001b[A\n",
      "Testing:  70%|███████   | 175/250 [5:47:26<10:31,  8.42s/it]\u001b[A\n",
      "Testing:  70%|███████   | 176/250 [5:47:34<10:12,  8.28s/it]\u001b[A\n",
      "Testing:  71%|███████   | 177/250 [5:47:43<10:11,  8.37s/it]\u001b[A\n",
      "Testing:  71%|███████   | 178/250 [5:47:51<09:59,  8.33s/it]\u001b[A\n",
      "Testing:  72%|███████▏  | 179/250 [5:47:59<09:50,  8.32s/it]\u001b[A\n",
      "Testing:  72%|███████▏  | 180/250 [5:48:08<09:38,  8.26s/it]\u001b[A\n",
      "Testing:  72%|███████▏  | 181/250 [5:48:16<09:33,  8.31s/it]\u001b[A\n",
      "Testing:  73%|███████▎  | 182/250 [5:48:24<09:22,  8.27s/it]\u001b[A\n",
      "Testing:  73%|███████▎  | 183/250 [5:48:33<09:18,  8.33s/it]\u001b[A\n",
      "Testing:  74%|███████▎  | 184/250 [5:48:41<09:07,  8.30s/it]\u001b[A\n",
      "Testing:  74%|███████▍  | 185/250 [5:48:49<08:56,  8.25s/it]\u001b[A\n",
      "Testing:  74%|███████▍  | 186/250 [5:48:57<08:45,  8.22s/it]\u001b[A\n",
      "Testing:  75%|███████▍  | 187/250 [5:49:05<08:38,  8.23s/it]\u001b[A\n",
      "Testing:  75%|███████▌  | 188/250 [5:49:14<08:28,  8.21s/it]\u001b[A\n",
      "Testing:  76%|███████▌  | 189/250 [5:49:22<08:26,  8.30s/it]\u001b[A\n",
      "Testing:  76%|███████▌  | 190/250 [5:49:30<08:13,  8.22s/it]\u001b[A\n",
      "Testing:  76%|███████▋  | 191/250 [5:49:39<08:13,  8.36s/it]\u001b[A\n",
      "Testing:  77%|███████▋  | 192/250 [5:49:47<08:01,  8.30s/it]\u001b[A\n",
      "Testing:  77%|███████▋  | 193/250 [5:49:56<07:58,  8.39s/it]\u001b[A\n",
      "Testing:  78%|███████▊  | 194/250 [5:50:04<07:45,  8.31s/it]\u001b[A\n",
      "Testing:  78%|███████▊  | 195/250 [5:50:13<07:46,  8.47s/it]\u001b[A\n",
      "Testing:  78%|███████▊  | 196/250 [5:50:21<07:34,  8.41s/it]\u001b[A\n",
      "Testing:  79%|███████▉  | 197/250 [5:50:29<07:28,  8.45s/it]\u001b[A\n",
      "Testing:  79%|███████▉  | 198/250 [5:50:38<07:18,  8.44s/it]\u001b[A\n",
      "Testing:  80%|███████▉  | 199/250 [5:50:46<07:14,  8.52s/it]\u001b[A\n",
      "Testing:  80%|████████  | 200/250 [5:50:55<07:03,  8.46s/it]\u001b[A\n",
      "Testing:  80%|████████  | 201/250 [5:51:03<06:55,  8.47s/it]\u001b[A\n",
      "Testing:  81%|████████  | 202/250 [5:51:12<06:43,  8.41s/it]\u001b[A\n",
      "Testing:  81%|████████  | 203/250 [5:51:20<06:40,  8.51s/it]\u001b[A\n",
      "Testing:  82%|████████▏ | 204/250 [5:51:29<06:36,  8.62s/it]\u001b[A\n",
      "Testing:  82%|████████▏ | 205/250 [5:51:38<06:25,  8.56s/it]\u001b[A\n",
      "Testing:  82%|████████▏ | 206/250 [5:51:47<06:21,  8.66s/it]\u001b[A\n",
      "Testing:  83%|████████▎ | 207/250 [5:51:55<06:10,  8.61s/it]\u001b[A\n",
      "Testing:  83%|████████▎ | 208/250 [5:52:03<05:57,  8.52s/it]\u001b[A\n",
      "Testing:  84%|████████▎ | 209/250 [5:52:12<05:46,  8.46s/it]\u001b[A\n",
      "Testing:  84%|████████▍ | 210/250 [5:52:20<05:37,  8.44s/it]\u001b[A\n",
      "Testing:  84%|████████▍ | 211/250 [5:52:28<05:29,  8.44s/it]\u001b[A\n",
      "Testing:  85%|████████▍ | 212/250 [5:52:37<05:20,  8.43s/it]\u001b[A\n",
      "Testing:  85%|████████▌ | 213/250 [5:52:45<05:13,  8.46s/it]\u001b[A\n",
      "Testing:  86%|████████▌ | 214/250 [5:52:54<05:02,  8.39s/it]\u001b[A\n",
      "Testing:  86%|████████▌ | 215/250 [5:53:02<04:56,  8.47s/it]\u001b[A\n",
      "Testing:  86%|████████▋ | 216/250 [5:53:11<04:46,  8.43s/it]\u001b[A\n",
      "Testing:  87%|████████▋ | 217/250 [5:53:19<04:40,  8.49s/it]\u001b[A\n",
      "Testing:  87%|████████▋ | 218/250 [5:53:28<04:32,  8.50s/it]\u001b[A\n",
      "Testing:  88%|████████▊ | 219/250 [5:53:36<04:22,  8.48s/it]\u001b[A\n",
      "Testing:  88%|████████▊ | 220/250 [5:53:45<04:13,  8.45s/it]\u001b[A\n",
      "Testing:  88%|████████▊ | 221/250 [5:53:53<04:04,  8.42s/it]\u001b[A\n",
      "Testing:  89%|████████▉ | 222/250 [5:54:01<03:56,  8.44s/it]\u001b[A\n",
      "Testing:  89%|████████▉ | 223/250 [5:54:10<03:46,  8.40s/it]\u001b[A\n",
      "Testing:  90%|████████▉ | 224/250 [5:54:19<03:42,  8.57s/it]\u001b[A\n",
      "Testing:  90%|█████████ | 225/250 [5:54:27<03:35,  8.61s/it]\u001b[A\n",
      "Testing:  90%|█████████ | 226/250 [5:54:36<03:27,  8.64s/it]\u001b[A\n",
      "Testing:  91%|█████████ | 227/250 [5:54:45<03:20,  8.72s/it]\u001b[A\n",
      "Testing:  91%|█████████ | 228/250 [5:54:54<03:13,  8.81s/it]\u001b[A\n",
      "Testing:  92%|█████████▏| 229/250 [5:55:03<03:03,  8.75s/it]\u001b[A\n",
      "Testing:  92%|█████████▏| 230/250 [5:55:11<02:55,  8.77s/it]\u001b[A\n",
      "Testing:  92%|█████████▏| 231/250 [5:55:20<02:48,  8.84s/it]\u001b[A\n",
      "Testing:  93%|█████████▎| 232/250 [5:55:29<02:35,  8.65s/it]\u001b[A\n",
      "Testing:  93%|█████████▎| 233/250 [5:55:37<02:26,  8.60s/it]\u001b[A\n",
      "Testing:  94%|█████████▎| 234/250 [5:55:45<02:15,  8.48s/it]\u001b[A\n",
      "Testing:  94%|█████████▍| 235/250 [5:55:54<02:07,  8.51s/it]\u001b[A\n",
      "Testing:  94%|█████████▍| 236/250 [5:56:02<01:57,  8.42s/it]\u001b[A\n",
      "Testing:  95%|█████████▍| 237/250 [5:56:11<01:49,  8.44s/it]\u001b[A\n",
      "Testing:  95%|█████████▌| 238/250 [5:56:19<01:41,  8.44s/it]\u001b[A\n",
      "Testing:  96%|█████████▌| 239/250 [5:56:28<01:33,  8.46s/it]\u001b[A\n",
      "Testing:  96%|█████████▌| 240/250 [5:56:36<01:24,  8.48s/it]\u001b[A\n",
      "Testing:  96%|█████████▋| 241/250 [5:56:45<01:16,  8.52s/it]\u001b[A\n",
      "Testing:  97%|█████████▋| 242/250 [5:56:53<01:06,  8.33s/it]\u001b[A\n",
      "Testing:  97%|█████████▋| 243/250 [5:57:01<00:58,  8.39s/it]\u001b[A\n",
      "Testing:  98%|█████████▊| 244/250 [5:57:09<00:49,  8.31s/it]\u001b[A\n",
      "Testing:  98%|█████████▊| 245/250 [5:57:18<00:41,  8.35s/it]\u001b[A\n",
      "Testing:  98%|█████████▊| 246/250 [5:57:26<00:33,  8.37s/it]\u001b[A\n",
      "Testing:  99%|█████████▉| 247/250 [5:57:34<00:25,  8.36s/it]\u001b[A\n",
      "Testing:  99%|█████████▉| 248/250 [5:57:43<00:16,  8.35s/it]\u001b[A\n",
      "Testing: 100%|█████████▉| 249/250 [5:57:51<00:08,  8.42s/it]\u001b[A\n",
      "Testing: 100%|██████████| 250/250 [5:57:59<00:00, 85.92s/it]\u001b[A\n"
     ]
    }
   ],
   "source": [
    "model_BERT.eval()\n",
    "predictions = []\n",
    "true_labels = []\n",
    "\n",
    "for batch in test_dataloader:\n",
    "    input_ids, labels = batch\n",
    "    input_ids, labels = input_ids.to(device), labels.to(device)  # Move input data to the GPU\n",
    "    outputs = model_BERT(input_ids)\n",
    "    logits = outputs.logits\n",
    "    predictions.extend(torch.argmax(logits, dim=1))\n",
    "    true_labels.extend(labels)"
   ]
  },
  {
   "cell_type": "markdown",
   "id": "5a40e475",
   "metadata": {},
   "source": [
    "BERT accuracy:"
   ]
  },
  {
   "cell_type": "code",
   "execution_count": 87,
   "id": "aa908e15",
   "metadata": {},
   "outputs": [
    {
     "name": "stdout",
     "output_type": "stream",
     "text": [
      "0.847625\n"
     ]
    }
   ],
   "source": [
    "correct = sum(1 for true, pred in zip(true_labels, predictions) if true == pred)\n",
    "accuracy = correct / len(true_labels)\n",
    "print(accuracy)"
   ]
  },
  {
   "cell_type": "markdown",
   "id": "7f51169a",
   "metadata": {},
   "source": [
    "Let's see how the confusion matrix looks"
   ]
  },
  {
   "cell_type": "code",
   "execution_count": 88,
   "id": "1d0fad35",
   "metadata": {},
   "outputs": [
    {
     "data": {
      "image/png": "[encoded data removed]",
      "text/plain": [
       "<Figure size 800x600 with 2 Axes>"
      ]
     },
     "metadata": {},
     "output_type": "display_data"
    }
   ],
   "source": [
    "TP = 0\n",
    "TN = 0\n",
    "FP = 0\n",
    "FN = 0\n",
    "\n",
    "for true, pred in zip(true_labels, predictions):\n",
    "    if true == 1 and pred == 1:\n",
    "        TP += 1\n",
    "    elif true == 0 and pred == 0:\n",
    "        TN += 1\n",
    "    elif true == 0 and pred == 1:\n",
    "        FP += 1\n",
    "    elif true == 1 and pred == 0:\n",
    "        FN += 1\n",
    "        \n",
    "confusion_matrix = [[TP, FP], [FN, TN]]\n",
    "\n",
    "class_labels = ['Positive', 'Negative']\n",
    "\n",
    "plt.figure(figsize=(8, 6))\n",
    "plt.imshow(confusion_matrix, interpolation='nearest', cmap=plt.cm.Blues)\n",
    "plt.title('Confusion Matrix')\n",
    "plt.colorbar()\n",
    "\n",
    "tick_marks = range(len(class_labels))\n",
    "plt.xticks(tick_marks, class_labels)\n",
    "plt.yticks(tick_marks, class_labels)\n",
    "\n",
    "for i in range(len(class_labels)):\n",
    "    for j in range(len(class_labels)):\n",
    "        plt.text(j, i, str(confusion_matrix[i][j]), horizontalalignment=\"center\", color=\"white\" if confusion_matrix[i][j] > confusion_matrix[0][1] else \"black\")\n",
    "\n",
    "plt.xlabel('Predicted')\n",
    "plt.ylabel('True')\n",
    "\n",
    "plt.show()"
   ]
  },
  {
   "cell_type": "code",
   "execution_count": 83,
   "id": "2a1e1d4f",
   "metadata": {},
   "outputs": [],
   "source": [
    "torch.save(model_BERT.state_dict(), 'bert_imdb_sentiment_model.pth')"
   ]
  },
  {
   "cell_type": "markdown",
   "id": "d6a9737c",
   "metadata": {},
   "source": [
    "# Conclusion"
   ]
  },
  {
   "cell_type": "markdown",
   "id": "19691370",
   "metadata": {},
   "source": [
    "Accuracies: LodisticRegression = 0.90, LSTM = 0.85, BERT = 0.85.\n",
    "\n",
    "All models can be imroved, especialy BERT, where I used only a small portion of data due to hardware limitations."
   ]
  }
 ],
 "metadata": {
  "kernelspec": {
   "display_name": "Python 3 (ipykernel)",
   "language": "python",
   "name": "python3"
  },
  "language_info": {
   "codemirror_mode": {
    "name": "ipython",
    "version": 3
   },
   "file_extension": ".py",
   "mimetype": "text/x-python",
   "name": "python",
   "nbconvert_exporter": "python",
   "pygments_lexer": "ipython3",
   "version": "3.11.5"
  }
 },
 "nbformat": 4,
 "nbformat_minor": 5
}
